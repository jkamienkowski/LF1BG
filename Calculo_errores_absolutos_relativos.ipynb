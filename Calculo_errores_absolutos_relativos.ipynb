{
 "cells": [
  {
   "cell_type": "code",
   "execution_count": 2,
   "metadata": {},
   "outputs": [],
   "source": [
    "import numpy as np"
   ]
  },
  {
   "cell_type": "code",
   "execution_count": 3,
   "metadata": {},
   "outputs": [
    {
     "name": "stdout",
     "output_type": "stream",
     "text": [
      "17.962962963\n"
     ]
    }
   ],
   "source": [
    "# Calculo de volumen por densidad\n",
    "d = 2.70  # gr/cm3\n",
    "p = 48.50 # gr\n",
    "v = p/d\n",
    "print v"
   ]
  },
  {
   "cell_type": "code",
   "execution_count": 4,
   "metadata": {},
   "outputs": [
    {
     "name": "stdout",
     "output_type": "stream",
     "text": [
      "0.0702331961591\n"
     ]
    }
   ],
   "source": [
    "# Errores en cada variable\n",
    "dd = 0.01\n",
    "dp = 0.01\n",
    "\n",
    "# Calculo de error de volumen usando modulos\n",
    "dv = np.absolute( ( 1 / d ) * dp ) + np.absolute( ( p / (d*d) ) * dd )\n",
    "print dv"
   ]
  },
  {
   "cell_type": "code",
   "execution_count": 6,
   "metadata": {},
   "outputs": [
    {
     "name": "stdout",
     "output_type": "stream",
     "text": [
      "0.0666325054872\n"
     ]
    }
   ],
   "source": [
    "# Calculo de error de volumen usando cuadrados\n",
    "dv = np.sqrt( np.power( ( 1 / d ) * dp , 2 ) + np.power( ( p / (d*d) ) * dd , 2) )\n",
    "print dv"
   ]
  },
  {
   "cell_type": "code",
   "execution_count": 7,
   "metadata": {},
   "outputs": [
    {
     "name": "stdout",
     "output_type": "stream",
     "text": [
      "0.0037094384498\n"
     ]
    }
   ],
   "source": [
    "# error relativo\n",
    "ev = dv/v\n",
    "print ev"
   ]
  }
 ],
 "metadata": {
  "kernelspec": {
   "display_name": "Python 2",
   "language": "python",
   "name": "python2"
  },
  "language_info": {
   "codemirror_mode": {
    "name": "ipython",
    "version": 2
   },
   "file_extension": ".py",
   "mimetype": "text/x-python",
   "name": "python",
   "nbconvert_exporter": "python",
   "pygments_lexer": "ipython2",
   "version": "2.7.12"
  }
 },
 "nbformat": 4,
 "nbformat_minor": 2
}
