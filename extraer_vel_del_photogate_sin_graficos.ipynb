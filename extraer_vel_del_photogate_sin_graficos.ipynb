{
 "cells": [
  {
   "cell_type": "code",
   "execution_count": 1,
   "metadata": {
    "collapsed": true
   },
   "outputs": [],
   "source": [
    "# IMPORTACIÓN DE LAS BIBLIOTECAS QUE NECESITAMOS USAR\n",
    "import numpy as np\n",
    "import pandas as pd\n",
    "import matplotlib.pyplot as plt\n",
    "import matplotlib.mlab as mlab"
   ]
  },
  {
   "cell_type": "code",
   "execution_count": 3,
   "metadata": {},
   "outputs": [],
   "source": [
    "# Me genero unos datos de juguete\n",
    "from scipy import signal\n",
    "\n",
    "fs = 1000 #Hz\n",
    "tmax = 3 # Tiempo (segundos) de registro\n",
    "t = np.linspace(1/fs,tmax,tmax*fs)\n",
    "\n",
    "f = 13. # Hz. Acuerdense del punto para que no sean enteros!!\n",
    "t0 = 1\n",
    "ciclos = 13\n",
    "dur = ciclos/f\n",
    "A = 5 # Amplitud en Volts\n",
    "\n",
    "xo = A*(signal.square(2 * np.pi * f * t)+1)/2\n",
    "xo[t<t0] = 0\n",
    "xo[t>t0+dur] = 0\n",
    "\n",
    "ruido = np.random.normal(0, 0.01*A, len(xo)) # Le sumo ruido con el 1% de la amplitud\n",
    "x = xo + ruido"
   ]
  },
  {
   "cell_type": "code",
   "execution_count": 5,
   "metadata": {},
   "outputs": [],
   "source": [
    "# OPCION 1: TODO EN UNA CELDA\n",
    "# Datos\n",
    "rendija = 0.055 # m\n",
    "vacio = 0.045 # m\n",
    "distancia = rendija + vacio\n",
    "\n",
    "# Cosas que necesito definir\n",
    "UMBRAL = 4 # Lo elijo mirando el grafico\n",
    "\n",
    "y = (x > UMBRAL)*1.\n",
    "dy = y[1:len(y)] - y[0:(len(y)-1)]\n",
    "ti = []\n",
    "for item in range(0,len(dy)-1):\n",
    "    if (dy[item]==1.):\n",
    "        ti.append(t[item])\n",
    "ti = np.asarray(ti)\n",
    "#items = [item for item in range(0,len(dy)-1) if (dy[item]==1.)]\n",
    "#ti = t[items]\n",
    "\n",
    "dt = ti[1:len(ti)] - ti[0:(len(ti)-1)]\n",
    "vel = distancia / dt # m/s\n",
    "tprom = (ti[1:len(ti)] + ti[0:(len(ti)-1)])/2\n",
    "\n",
    "plt.plot(tprom, vel,'r.')\n",
    "plt.ylim(0,2)\n",
    "plt.show()"
   ]
  },
  {
   "cell_type": "code",
   "execution_count": 7,
   "metadata": {
    "collapsed": true
   },
   "outputs": [],
   "source": [
    "# OPCION 2: GENERO LA FUNCION, y despues lo calculo\n",
    "def calculo_velocidad(t,x,distancia,UMBRAL):\n",
    "    y = (x > UMBRAL)*1.\n",
    "    dy = y[1:len(y)] - y[0:(len(y)-1)]\n",
    "    ti = []\n",
    "    for item in range(0,len(dy)-1):\n",
    "        if (dy[item]==1.):\n",
    "            ti.append(t[item])\n",
    "    ti = np.asarray(ti)\n",
    "    #items = [item for item in range(0,len(dy)-1) if (dy[item]==1.)]\n",
    "    #ti = t[items]\n",
    "\n",
    "    dt = ti[1:len(ti)] - ti[0:(len(ti)-1)]\n",
    "    vel = distancia / dt # m/s\n",
    "    tprom = (ti[1:len(ti)] + ti[0:(len(ti)-1)])/2\n",
    "\n",
    "    output = {'tprom':tprom,'vel':vel}\n",
    "    return output "
   ]
  },
  {
   "cell_type": "code",
   "execution_count": 8,
   "metadata": {
    "scrolled": true
   },
   "outputs": [
    {
     "data": {
      "image/png": "[encoded data removed]",
      "text/plain": [
       "<matplotlib.figure.Figure at 0x7ffb626dbe90>"
      ]
     },
     "metadata": {},
     "output_type": "display_data"
    }
   ],
   "source": [
    "output = calculo_velocidad(t,x,distancia,UMBRAL)\n",
    "\n",
    "plt.plot(output['tprom'],output['vel'],'r.')\n",
    "plt.ylim(0,2)\n",
    "plt.show()"
   ]
  }
 ],
 "metadata": {
  "kernelspec": {
   "display_name": "Python 2",
   "language": "python",
   "name": "python2"
  },
  "language_info": {
   "codemirror_mode": {
    "name": "ipython",
    "version": 2
   },
   "file_extension": ".py",
   "mimetype": "text/x-python",
   "name": "python",
   "nbconvert_exporter": "python",
   "pygments_lexer": "ipython2",
   "version": "2.7.12"
  }
 },
 "nbformat": 4,
 "nbformat_minor": 2
}
