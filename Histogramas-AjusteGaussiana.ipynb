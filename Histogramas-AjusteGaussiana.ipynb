{
 "cells": [
  {
   "cell_type": "code",
   "execution_count": 1,
   "metadata": {
    "collapsed": true
   },
   "outputs": [],
   "source": [
    "import numpy as np\n",
    "import pandas as pd\n",
    "import matplotlib.pyplot as plt\n",
    "import matplotlib.mlab as mlab"
   ]
  },
  {
   "cell_type": "code",
   "execution_count": 2,
   "metadata": {
    "collapsed": true
   },
   "outputs": [],
   "source": [
    "directorio = 'datos_histogramas/'\n",
    "nombrearchivo='data104.csv'\n",
    "data = pd.read_csv(directorio + nombrearchivo,header=None,names={'data'})"
   ]
  },
  {
   "cell_type": "code",
   "execution_count": 3,
   "metadata": {},
   "outputs": [
    {
     "data": {
      "text/html": [
       "<div>\n",
       "<table border=\"1\" class=\"dataframe\">\n",
       "  <thead>\n",
       "    <tr style=\"text-align: right;\">\n",
       "      <th></th>\n",
       "      <th>data</th>\n",
       "    </tr>\n",
       "  </thead>\n",
       "  <tbody>\n",
       "    <tr>\n",
       "      <th>0</th>\n",
       "      <td>33.932</td>\n",
       "    </tr>\n",
       "    <tr>\n",
       "      <th>1</th>\n",
       "      <td>34.486</td>\n",
       "    </tr>\n",
       "    <tr>\n",
       "      <th>2</th>\n",
       "      <td>40.375</td>\n",
       "    </tr>\n",
       "    <tr>\n",
       "      <th>3</th>\n",
       "      <td>41.778</td>\n",
       "    </tr>\n",
       "    <tr>\n",
       "      <th>4</th>\n",
       "      <td>52.259</td>\n",
       "    </tr>\n",
       "    <tr>\n",
       "      <th>5</th>\n",
       "      <td>52.627</td>\n",
       "    </tr>\n",
       "    <tr>\n",
       "      <th>6</th>\n",
       "      <td>53.240</td>\n",
       "    </tr>\n",
       "    <tr>\n",
       "      <th>7</th>\n",
       "      <td>53.293</td>\n",
       "    </tr>\n",
       "    <tr>\n",
       "      <th>8</th>\n",
       "      <td>54.696</td>\n",
       "    </tr>\n",
       "    <tr>\n",
       "      <th>9</th>\n",
       "      <td>55.088</td>\n",
       "    </tr>\n",
       "  </tbody>\n",
       "</table>\n",
       "</div>"
      ],
      "text/plain": [
       "     data\n",
       "0  33.932\n",
       "1  34.486\n",
       "2  40.375\n",
       "3  41.778\n",
       "4  52.259\n",
       "5  52.627\n",
       "6  53.240\n",
       "7  53.293\n",
       "8  54.696\n",
       "9  55.088"
      ]
     },
     "execution_count": 3,
     "metadata": {},
     "output_type": "execute_result"
    }
   ],
   "source": [
    "data[0:10] #Mostrar primeros datos"
   ]
  },
  {
   "cell_type": "code",
   "execution_count": 4,
   "metadata": {},
   "outputs": [
    {
     "data": {
      "image/png": "[encoded data removed]",
      "text/plain": [
       "<matplotlib.figure.Figure at 0x7fe1da13b650>"
      ]
     },
     "metadata": {},
     "output_type": "display_data"
    }
   ],
   "source": [
    "count, bin_edges, ignored = plt.hist(data['data'], 30, normed=False)\n",
    "#muestro el grafico\n",
    "plt.show()"
   ]
  },
  {
   "cell_type": "code",
   "execution_count": 5,
   "metadata": {},
   "outputs": [
    {
     "name": "stdout",
     "output_type": "stream",
     "text": [
      "Numero de bins = 14\n"
     ]
    },
    {
     "data": {
      "image/png": "[encoded data removed]",
      "text/plain": [
       "<matplotlib.figure.Figure at 0x7fe1d9d1d4d0>"
      ]
     },
     "metadata": {},
     "output_type": "display_data"
    }
   ],
   "source": [
    "#nbins = 30\n",
    "#nbins = int(1 + np.log2(len(data))) # Sturges\n",
    "nbins = int(np.sqrt(len(data))) # Sqrt\n",
    "print(\"Numero de bins = \" + str(nbins))\n",
    "\n",
    "#grafico el histograma y de paso calculo los valores\n",
    "colors = ['red'] # [1,0,0]\n",
    "#count, bin_centers, ignored = plt.hist(result['data'], nbins, normed=True,color=colors)\n",
    "count, bin_edges, ignored = plt.hist(data['data'], nbins, normed=True,color=colors)\n",
    "\n",
    "#le pongo nombres a los ejes\n",
    "plt.xlabel('data')\n",
    "plt.ylabel('cuentas')\n",
    "\n",
    "#muestro el grafico\n",
    "plt.show()"
   ]
  },
  {
   "cell_type": "code",
   "execution_count": 6,
   "metadata": {},
   "outputs": [
    {
     "data": {
      "text/html": [
       "<div>\n",
       "<table border=\"1\" class=\"dataframe\">\n",
       "  <thead>\n",
       "    <tr style=\"text-align: right;\">\n",
       "      <th></th>\n",
       "      <th>data</th>\n",
       "      <th>data2</th>\n",
       "    </tr>\n",
       "  </thead>\n",
       "  <tbody>\n",
       "    <tr>\n",
       "      <th>0</th>\n",
       "      <td>33.932</td>\n",
       "      <td>75.525</td>\n",
       "    </tr>\n",
       "    <tr>\n",
       "      <th>1</th>\n",
       "      <td>34.486</td>\n",
       "      <td>52.541</td>\n",
       "    </tr>\n",
       "    <tr>\n",
       "      <th>2</th>\n",
       "      <td>40.375</td>\n",
       "      <td>48.527</td>\n",
       "    </tr>\n",
       "    <tr>\n",
       "      <th>3</th>\n",
       "      <td>41.778</td>\n",
       "      <td>66.637</td>\n",
       "    </tr>\n",
       "    <tr>\n",
       "      <th>4</th>\n",
       "      <td>52.259</td>\n",
       "      <td>55.225</td>\n",
       "    </tr>\n",
       "    <tr>\n",
       "      <th>5</th>\n",
       "      <td>52.627</td>\n",
       "      <td>37.624</td>\n",
       "    </tr>\n",
       "    <tr>\n",
       "      <th>6</th>\n",
       "      <td>53.240</td>\n",
       "      <td>49.322</td>\n",
       "    </tr>\n",
       "    <tr>\n",
       "      <th>7</th>\n",
       "      <td>53.293</td>\n",
       "      <td>42.818</td>\n",
       "    </tr>\n",
       "    <tr>\n",
       "      <th>8</th>\n",
       "      <td>54.696</td>\n",
       "      <td>18.375</td>\n",
       "    </tr>\n",
       "    <tr>\n",
       "      <th>9</th>\n",
       "      <td>55.088</td>\n",
       "      <td>58.399</td>\n",
       "    </tr>\n",
       "  </tbody>\n",
       "</table>\n",
       "</div>"
      ],
      "text/plain": [
       "     data   data2\n",
       "0  33.932  75.525\n",
       "1  34.486  52.541\n",
       "2  40.375  48.527\n",
       "3  41.778  66.637\n",
       "4  52.259  55.225\n",
       "5  52.627  37.624\n",
       "6  53.240  49.322\n",
       "7  53.293  42.818\n",
       "8  54.696  18.375\n",
       "9  55.088  58.399"
      ]
     },
     "execution_count": 6,
     "metadata": {},
     "output_type": "execute_result"
    }
   ],
   "source": [
    "nombrearchivo='data102.csv'\n",
    "data2 = pd.read_csv(directorio + nombrearchivo,header=None,names={'data2'})\n",
    "result = pd.concat([data, data2], axis=1)\n",
    "\n",
    "result[0:10]"
   ]
  },
  {
   "cell_type": "code",
   "execution_count": 7,
   "metadata": {},
   "outputs": [
    {
     "data": {
      "image/png": "[encoded data removed]",
      "text/plain": [
       "<matplotlib.figure.Figure at 0x7fe1d63f56d0>"
      ]
     },
     "metadata": {},
     "output_type": "display_data"
    }
   ],
   "source": [
    "plt.hist(result[\"data\"], alpha=0.6, label=\"dtaa\")\n",
    "plt.hist(result[\"data2\"], alpha=0.6, label=\"data2\")\n",
    "plt.legend()\n",
    "plt.show()"
   ]
  },
  {
   "cell_type": "code",
   "execution_count": 8,
   "metadata": {
    "collapsed": true
   },
   "outputs": [],
   "source": [
    "media = np.mean(data['data'])\n",
    "desvio = np.std(data['data'],ddof=1)\n",
    "N = len(data['data'])\n",
    "sem = desvio / np.sqrt(N)"
   ]
  },
  {
   "cell_type": "code",
   "execution_count": 9,
   "metadata": {},
   "outputs": [
    {
     "data": {
      "text/plain": [
       "25.843977855697911"
      ]
     },
     "execution_count": 9,
     "metadata": {},
     "output_type": "execute_result"
    }
   ],
   "source": [
    "np.sqrt(sum(np.power(data['data']-media,2))/(N-1))"
   ]
  },
  {
   "cell_type": "code",
   "execution_count": 10,
   "metadata": {},
   "outputs": [
    {
     "data": {
      "text/plain": [
       "25.843977855697911"
      ]
     },
     "execution_count": 10,
     "metadata": {},
     "output_type": "execute_result"
    }
   ],
   "source": [
    "desvio # Para imprimir los valores, puedo sólo escribirlos al final de la celda"
   ]
  },
  {
   "cell_type": "code",
   "execution_count": 11,
   "metadata": {},
   "outputs": [
    {
     "name": "stdout",
     "output_type": "stream",
     "text": [
      "Media = 100.191465\n",
      "Desvio estandar = 25.8439778557\n",
      "Error estandar de la media = 1.827445\n",
      "Error estandar de la media = 1.827\n"
     ]
    }
   ],
   "source": [
    "print('Media = ' + str(media)) # ... puedo convertirlos a texto (str()) y unirlos a otro texto (con +)\n",
    "print('Desvio estandar = %s'%str(desvio)) # ... puedo convertirlos a texto (str()) y llamarlos como variable (%s), lo bueno es que puedo llamar muchas variables.\n",
    "print('Error estandar de la media = %f'%sem) # ... puedo llamarlo como variable numérica (%f)\n",
    "print('Error estandar de la media = %0.3f'%sem) # ... puedo llamarlo como variable numérica (%f) controlando el número de decimales que muestra\n"
   ]
  },
  {
   "cell_type": "code",
   "execution_count": 21,
   "metadata": {},
   "outputs": [
    {
     "data": {
      "image/png": "[encoded data removed]",
      "text/plain": [
       "<matplotlib.figure.Figure at 0x7fe1d5f78350>"
      ]
     },
     "metadata": {},
     "output_type": "display_data"
    }
   ],
   "source": [
    "# Grafico Gaussiana sobre el histograma usando los valores antes calculados\n",
    "nbins = 30\n",
    "\n",
    "#grafico el histograma y de paso calculo los valores\n",
    "count, bins, ignored = plt.hist(data['data'], nbins, normed=False)\n",
    "\n",
    "bin_size=bins[1]-bins[0] # calculo el ancho de los bins del histograma\n",
    "\n",
    "x_gaussiana=np.linspace(media-5*desvio, media+5*desvio, num=100) # armo una lista de puntos donde quiero graficar la distribución de ajuste\n",
    "\n",
    "gaussiana=mlab.normpdf(x_gaussiana, media, desvio)*N*bin_size # calculo la gaussiana que corresponde al histograma\n",
    "\n",
    "plt.plot(x_gaussiana,gaussiana,'r--', linewidth=2, label='ajuste 1') #grafico la gaussiana\n",
    "\n",
    "plt.show()"
   ]
  },
  {
   "cell_type": "code",
   "execution_count": 34,
   "metadata": {},
   "outputs": [
    {
     "name": "stdout",
     "output_type": "stream",
     "text": [
      "sigma: 20.000010 ± 3713.461634\n",
      "media: 97.210602 ± 4547.501147\n"
     ]
    },
    {
     "data": {
      "image/png": "[encoded data removed]",
      "text/plain": [
       "<matplotlib.figure.Figure at 0x7fe1da13bbd0>"
      ]
     },
     "metadata": {},
     "output_type": "display_data"
    }
   ],
   "source": [
    "from scipy.optimize import curve_fit\n",
    "\n",
    "x = bins[1:]-bin_size\n",
    "y = count\n",
    "\n",
    "def func(x, m, d):\n",
    "    return a*mlab.normpdf(x, m, d)\n",
    "\n",
    "#popt, pcov = curve_fit(func, x, y, bounds=([95., 20.], [105., 30.]))\n",
    "popt, pcov = curve_fit(func, x, y, p0=(media,desvio))\n",
    "sigmas = np.sqrt([pcov[0,0],pcov[1,1]])# las incertezas de los parametros son la raiz de la diagonal de la matriz de covarianza\n",
    "m=popt[0]\n",
    "d=popt[1]\n",
    "em=sigmas[0]\n",
    "ed=sigmas[1]\n",
    "print('sigma: %f ± %f'% (d,ed))\n",
    "print('media: %f ± %f' % (m,em))\n",
    "print('A: %f ± %f' % (a,ea))\n",
    "\n",
    "plt.plot(x, func(x, *popt), 'r-')\n",
    "plt.plot(x, y/(N*bin_size),'bo')\n",
    "plt.show()"
   ]
  }
 ],
 "metadata": {
  "celltoolbar": "Edit Metadata",
  "kernelspec": {
   "display_name": "Python 2",
   "language": "python",
   "name": "python2"
  },
  "language_info": {
   "codemirror_mode": {
    "name": "ipython",
    "version": 2
   },
   "file_extension": ".py",
   "mimetype": "text/x-python",
   "name": "python",
   "nbconvert_exporter": "python",
   "pygments_lexer": "ipython2",
   "version": "2.7.12"
  }
 },
 "nbformat": 4,
 "nbformat_minor": 2
}
